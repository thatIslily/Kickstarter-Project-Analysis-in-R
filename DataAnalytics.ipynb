{
 "cells": [
  {
   "cell_type": "markdown",
   "metadata": {},
   "source": [
    "Read Data"
   ]
  },
  {
   "cell_type": "code",
   "execution_count": 1,
   "metadata": {
    "collapsed": true
   },
   "outputs": [],
   "source": [
    "import pandas as pd\n",
    "import numpy as np\n",
    "import json\n",
    "import os\n",
    "import random\n",
    "filename = 'df_kickstarter.csv'\n",
    "df = pd.read_csv(filename,header=0)"
   ]
  },
  {
   "cell_type": "markdown",
   "metadata": {},
   "source": [
    "Extract Category"
   ]
  },
  {
   "cell_type": "code",
   "execution_count": 2,
   "metadata": {
    "collapsed": true
   },
   "outputs": [],
   "source": [
    "cat_json = df['category'].apply(json.loads)\n",
    "cat_name=list(map(lambda d: d['name'], cat_json))\n",
    "df['Cat_Name']=cat_name"
   ]
  },
  {
   "cell_type": "markdown",
   "metadata": {},
   "source": [
    "Calculate The Pledge Amount Per Backer"
   ]
  },
  {
   "cell_type": "code",
   "execution_count": 3,
   "metadata": {
    "collapsed": true
   },
   "outputs": [],
   "source": [
    "df['pledged_per_person'] = df['usd_pledged']/df['backers_count']"
   ]
  },
  {
   "cell_type": "code",
   "execution_count": 4,
   "metadata": {},
   "outputs": [],
   "source": [
    "df['pledged_per_person'] = df['pledged_per_person'].fillna(0)"
   ]
  },
  {
   "cell_type": "code",
   "execution_count": null,
   "metadata": {},
   "outputs": [],
   "source": [
    "df['pledged_per_person'] = df['pledged_per_person'].astype(int)"
   ]
  },
  {
   "cell_type": "code",
   "execution_count": null,
   "metadata": {},
   "outputs": [],
   "source": [
    "%matplotlib inline\n",
    "import matplotlib.pyplot as plt\n",
    "import seaborn as sns\n",
    "plt.style.use('seaborn')\n",
    "from scipy import stats\n",
    "sns.distplot(sm_pj['pledged_per_person'],kde=True,fit=stats.gamma)"
   ]
  },
  {
   "cell_type": "code",
   "execution_count": null,
   "metadata": {},
   "outputs": [],
   "source": [
    "df['pledged range'] = np.where((1000 < df['pledged_per_person']) & (df['pledged_per_person'] <= 2000), '1000 to 2000', 'less than 1000')\n",
    "df['pledged range'] = np.where((3000 < df['pledged_per_person']) & (df['pledged_per_person'] <= 4000), '3000 to 4000', df['pledged range'])\n",
    "df['pledged range'] = np.where((4000 < df['pledged_per_person']) & (df['pledged_per_person'] <= 5000), '4000 to 5000', df['pledged range'])\n",
    "df['pledged range'] = np.where((5000 < df['pledged_per_person']) & (df['pledged_per_person'] <= 6000), '5000 to 6000', df['pledged range'])\n",
    "df['pledged range'] = np.where((6000 < df['pledged_per_person']) & (df['pledged_per_person'] <= 7000), '6000 to 7000', df['pledged range'])\n",
    "df['pledged range'] = np.where((7000 < df['pledged_per_person']) & (df['pledged_per_person'] <= 8000), '7000 to 8000', df['pledged range'])\n",
    "df['pledged range'] = np.where((8000 < df['pledged_per_person']) & (df['pledged_per_person'] <= 9000), '8000 to 9000', df['pledged range'])\n",
    "df['pledged range'] = np.where((9000 < df['pledged_per_person']) & (df['pledged_per_person'] <= 10000), '9000 to 10000', df['pledged range'])\n",
    "a = df.groupby('pledged range').size()\n",
    "print(a)\n",
    "a.plot.bar()"
   ]
  },
  {
   "cell_type": "markdown",
   "metadata": {},
   "source": [
    "Top 10 Categories Launched On the Platform"
   ]
  },
  {
   "cell_type": "code",
   "execution_count": 7,
   "metadata": {},
   "outputs": [],
   "source": [
    "bycate=df.groupby('Cat_Name')"
   ]
  },
  {
   "cell_type": "code",
   "execution_count": 9,
   "metadata": {},
   "outputs": [
    {
     "data": {
      "text/plain": [
       "Cat_Name\n",
       "Web                 4570\n",
       "Product Design      4351\n",
       "Tabletop Games      4057\n",
       "Accessories         3562\n",
       "Comic Books         3457\n",
       "Comedy              3087\n",
       "Graphic Novels      2992\n",
       "Apparel             2990\n",
       "Illustration        2982\n",
       "Children's Books    2965\n",
       "dtype: int64"
      ]
     },
     "execution_count": 9,
     "metadata": {},
     "output_type": "execute_result"
    }
   ],
   "source": [
    "bycate.size().sort_values(ascending=False)[:10]"
   ]
  },
  {
   "cell_type": "markdown",
   "metadata": {},
   "source": [
    "Extract The Overfunded Projects"
   ]
  },
  {
   "cell_type": "code",
   "execution_count": 12,
   "metadata": {},
   "outputs": [],
   "source": [
    "df['overfunded'] = np.where((df['usd_pledged']>df['goal']),1,0)"
   ]
  },
  {
   "cell_type": "code",
   "execution_count": 13,
   "metadata": {
    "collapsed": true
   },
   "outputs": [],
   "source": [
    "pplr_prj = df[df['overfunded']==1]"
   ]
  },
  {
   "cell_type": "markdown",
   "metadata": {},
   "source": [
    "The Top 10 Popular Projects Among Investors"
   ]
  },
  {
   "cell_type": "code",
   "execution_count": 14,
   "metadata": {
    "collapsed": true
   },
   "outputs": [],
   "source": [
    "pplr_cate = pplr_prj.groupby('Cat_Name')"
   ]
  },
  {
   "cell_type": "code",
   "execution_count": 15,
   "metadata": {
    "scrolled": true
   },
   "outputs": [
    {
     "data": {
      "text/plain": [
       "Cat_Name\n",
       "Tabletop Games      3615\n",
       "Product Design      3482\n",
       "Comic Books         3159\n",
       "Accessories         2829\n",
       "Illustration        2704\n",
       "Country & Folk      2511\n",
       "Children's Books    2487\n",
       "Documentary         2436\n",
       "Nonfiction          2434\n",
       "Indie Rock          2403\n",
       "dtype: int64"
      ]
     },
     "execution_count": 15,
     "metadata": {},
     "output_type": "execute_result"
    }
   ],
   "source": [
    "pplr_cate.size().sort_values(ascending=False)[:10]"
   ]
  },
  {
   "cell_type": "markdown",
   "metadata": {},
   "source": [
    "Count the # failed projects "
   ]
  },
  {
   "cell_type": "code",
   "execution_count": 36,
   "metadata": {},
   "outputs": [],
   "source": [
    "pd_f = df[(df['Cat_Name']=='Product Design' )& (df['state']=='failed')]\n",
    "tg_f = df[(df['Cat_Name']=='Tabletop Games' )& (df['state']=='failed')]\n",
    "ac_f = df[(df['Cat_Name']=='Accessories' )& (df['state']=='failed')]\n",
    "co_f = df[(df['Cat_Name']=='Comic Books' )& (df['state']=='failed')]\n",
    "il_f = df[(df['Cat_Name']=='Illustration' )& (df['state']=='failed')]\n",
    "ch_f = df[(df['Cat_Name']==\"Children's Books\" )& (df['state']=='failed')]     "
   ]
  },
  {
   "cell_type": "markdown",
   "metadata": {},
   "source": [
    "Extract the successful projects"
   ]
  },
  {
   "cell_type": "code",
   "execution_count": 38,
   "metadata": {
    "collapsed": true
   },
   "outputs": [],
   "source": [
    "succeed =df[df['state']=='failed']"
   ]
  },
  {
   "cell_type": "code",
   "execution_count": 40,
   "metadata": {
    "collapsed": true
   },
   "outputs": [],
   "source": [
    "region_sccd= succeed.groupby('country')"
   ]
  },
  {
   "cell_type": "markdown",
   "metadata": {},
   "source": [
    "Successful Projects Grouped by Countries"
   ]
  },
  {
   "cell_type": "code",
   "execution_count": 42,
   "metadata": {},
   "outputs": [
    {
     "data": {
      "text/plain": [
       "country\n",
       "US    52315\n",
       "GB     7352\n",
       "CA     3724\n",
       "AU     2059\n",
       "DE     1549\n",
       "IT     1324\n",
       "FR     1027\n",
       "MX     1009\n",
       "NL      899\n",
       "ES      878\n",
       "SE      556\n",
       "NZ      361\n",
       "DK      333\n",
       "CH      305\n",
       "IE      271\n",
       "BE      268\n",
       "AT      238\n",
       "NO      219\n",
       "SG      208\n",
       "HK      199\n",
       "JP       87\n",
       "LU       18\n",
       "dtype: int64"
      ]
     },
     "execution_count": 42,
     "metadata": {},
     "output_type": "execute_result"
    }
   ],
   "source": [
    "region_sccd.size().sort_values(ascending=False)"
   ]
  },
  {
   "cell_type": "markdown",
   "metadata": {},
   "source": [
    "Projects Grouped By Countries"
   ]
  },
  {
   "cell_type": "code",
   "execution_count": 43,
   "metadata": {},
   "outputs": [
    {
     "data": {
      "text/plain": [
       "country\n",
       "US    148489\n",
       "GB     23108\n",
       "CA      9823\n",
       "AU      4866\n",
       "DE      3434\n",
       "FR      2642\n",
       "MX      2367\n",
       "IT      2344\n",
       "ES      1955\n",
       "NL      1814\n",
       "SE      1421\n",
       "HK      1085\n",
       "NZ       931\n",
       "DK       920\n",
       "SG       698\n",
       "CH       663\n",
       "IE       645\n",
       "BE       566\n",
       "NO       511\n",
       "AT       495\n",
       "JP       389\n",
       "LU        56\n",
       "dtype: int64"
      ]
     },
     "execution_count": 43,
     "metadata": {},
     "output_type": "execute_result"
    }
   ],
   "source": [
    "region_pj = df.groupby('country')\n",
    "region_pj.size().sort_values(ascending=False)"
   ]
  }
 ],
 "metadata": {
  "kernelspec": {
   "display_name": "Python 3",
   "language": "python",
   "name": "python3"
  },
  "language_info": {
   "codemirror_mode": {
    "name": "ipython",
    "version": 3
   },
   "file_extension": ".py",
   "mimetype": "text/x-python",
   "name": "python",
   "nbconvert_exporter": "python",
   "pygments_lexer": "ipython3",
   "version": "3.6.1"
  }
 },
 "nbformat": 4,
 "nbformat_minor": 2
}
